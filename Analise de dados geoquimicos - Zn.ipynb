{
 "cells": [
  {
   "cell_type": "markdown",
   "id": "e276b2c9-f4a4-4fcc-93dc-c566a06b9a3a",
   "metadata": {},
   "source": [
    "# 1. Análise exploratória dos dados"
   ]
  },
  {
   "cell_type": "markdown",
   "id": "ec3a7a7c-7b64-4a27-882b-735e0f960a56",
   "metadata": {},
   "source": [
    "## Importando bibliotecas e carregando os dados"
   ]
  },
  {
   "cell_type": "code",
   "execution_count": 2,
   "id": "41f991dc-07d0-4f04-9724-ff8baec3fbfa",
   "metadata": {},
   "outputs": [],
   "source": [
    "import pandas as pd\n",
    "import geopandas as gpd\n",
    "import matplotlib.pyplot as plt\n",
    "import numpy as np\n",
    "import seaborn as sns"
   ]
  },
  {
   "cell_type": "code",
   "execution_count": 3,
   "id": "579e20f8-b5c8-43bc-a94f-087e9486ab09",
   "metadata": {},
   "outputs": [
    {
     "data": {
      "text/html": [
       "<div>\n",
       "<style scoped>\n",
       "    .dataframe tbody tr th:only-of-type {\n",
       "        vertical-align: middle;\n",
       "    }\n",
       "\n",
       "    .dataframe tbody tr th {\n",
       "        vertical-align: top;\n",
       "    }\n",
       "\n",
       "    .dataframe thead th {\n",
       "        text-align: right;\n",
       "    }\n",
       "</style>\n",
       "<table border=\"1\" class=\"dataframe\">\n",
       "  <thead>\n",
       "    <tr style=\"text-align: right;\">\n",
       "      <th></th>\n",
       "      <th>X, metros</th>\n",
       "      <th>Y, metros</th>\n",
       "      <th>Zn, ppm</th>\n",
       "    </tr>\n",
       "    <tr>\n",
       "      <th>ID</th>\n",
       "      <th></th>\n",
       "      <th></th>\n",
       "      <th></th>\n",
       "    </tr>\n",
       "  </thead>\n",
       "  <tbody>\n",
       "    <tr>\n",
       "      <th>1</th>\n",
       "      <td>754551</td>\n",
       "      <td>9305688</td>\n",
       "      <td>85</td>\n",
       "    </tr>\n",
       "    <tr>\n",
       "      <th>2</th>\n",
       "      <td>754612</td>\n",
       "      <td>9305688</td>\n",
       "      <td>70</td>\n",
       "    </tr>\n",
       "    <tr>\n",
       "      <th>3</th>\n",
       "      <td>754673</td>\n",
       "      <td>9305688</td>\n",
       "      <td>68</td>\n",
       "    </tr>\n",
       "    <tr>\n",
       "      <th>4</th>\n",
       "      <td>754734</td>\n",
       "      <td>9305688</td>\n",
       "      <td>98</td>\n",
       "    </tr>\n",
       "    <tr>\n",
       "      <th>5</th>\n",
       "      <td>754795</td>\n",
       "      <td>9305688</td>\n",
       "      <td>80</td>\n",
       "    </tr>\n",
       "    <tr>\n",
       "      <th>...</th>\n",
       "      <td>...</td>\n",
       "      <td>...</td>\n",
       "      <td>...</td>\n",
       "    </tr>\n",
       "    <tr>\n",
       "      <th>268</th>\n",
       "      <td>754856</td>\n",
       "      <td>9304103</td>\n",
       "      <td>80</td>\n",
       "    </tr>\n",
       "    <tr>\n",
       "      <th>269</th>\n",
       "      <td>754917</td>\n",
       "      <td>9304103</td>\n",
       "      <td>70</td>\n",
       "    </tr>\n",
       "    <tr>\n",
       "      <th>270</th>\n",
       "      <td>754978</td>\n",
       "      <td>9304103</td>\n",
       "      <td>78</td>\n",
       "    </tr>\n",
       "    <tr>\n",
       "      <th>271</th>\n",
       "      <td>755039</td>\n",
       "      <td>9304103</td>\n",
       "      <td>85</td>\n",
       "    </tr>\n",
       "    <tr>\n",
       "      <th>272</th>\n",
       "      <td>755100</td>\n",
       "      <td>9304103</td>\n",
       "      <td>19</td>\n",
       "    </tr>\n",
       "  </tbody>\n",
       "</table>\n",
       "<p>272 rows × 3 columns</p>\n",
       "</div>"
      ],
      "text/plain": [
       "     X, metros  Y, metros  Zn, ppm\n",
       "ID                                \n",
       "1       754551    9305688       85\n",
       "2       754612    9305688       70\n",
       "3       754673    9305688       68\n",
       "4       754734    9305688       98\n",
       "5       754795    9305688       80\n",
       "..         ...        ...      ...\n",
       "268     754856    9304103       80\n",
       "269     754917    9304103       70\n",
       "270     754978    9304103       78\n",
       "271     755039    9304103       85\n",
       "272     755100    9304103       19\n",
       "\n",
       "[272 rows x 3 columns]"
      ]
     },
     "execution_count": 3,
     "metadata": {},
     "output_type": "execute_result"
    }
   ],
   "source": [
    "db = pd.read_csv('Gabriel Reposição.csv', index_col=0)\n",
    "db"
   ]
  },
  {
   "cell_type": "markdown",
   "id": "bab3dc52-729e-47ba-9bbf-f6c47954b82a",
   "metadata": {},
   "source": [
    "## Georreferenciando a tabela"
   ]
  },
  {
   "cell_type": "code",
   "execution_count": 4,
   "id": "44618500-137a-49fd-8654-dd03a0324eb1",
   "metadata": {},
   "outputs": [],
   "source": [
    "gdb = gpd.GeoDataFrame(db, geometry=gpd.points_from_xy(x=db['X, metros'], y=db['Y, metros']), crs='EPSG:31984')"
   ]
  },
  {
   "cell_type": "code",
   "execution_count": 5,
   "id": "1b9f8a40-f268-486f-85b1-6bf0eab1ef6f",
   "metadata": {},
   "outputs": [
    {
     "data": {
      "text/html": [
       "<div>\n",
       "<style scoped>\n",
       "    .dataframe tbody tr th:only-of-type {\n",
       "        vertical-align: middle;\n",
       "    }\n",
       "\n",
       "    .dataframe tbody tr th {\n",
       "        vertical-align: top;\n",
       "    }\n",
       "\n",
       "    .dataframe thead th {\n",
       "        text-align: right;\n",
       "    }\n",
       "</style>\n",
       "<table border=\"1\" class=\"dataframe\">\n",
       "  <thead>\n",
       "    <tr style=\"text-align: right;\">\n",
       "      <th></th>\n",
       "      <th>X, metros</th>\n",
       "      <th>Y, metros</th>\n",
       "      <th>Zn, ppm</th>\n",
       "      <th>geometry</th>\n",
       "    </tr>\n",
       "    <tr>\n",
       "      <th>ID</th>\n",
       "      <th></th>\n",
       "      <th></th>\n",
       "      <th></th>\n",
       "      <th></th>\n",
       "    </tr>\n",
       "  </thead>\n",
       "  <tbody>\n",
       "    <tr>\n",
       "      <th>1</th>\n",
       "      <td>754551</td>\n",
       "      <td>9305688</td>\n",
       "      <td>85</td>\n",
       "      <td>POINT (754551 9305688)</td>\n",
       "    </tr>\n",
       "    <tr>\n",
       "      <th>2</th>\n",
       "      <td>754612</td>\n",
       "      <td>9305688</td>\n",
       "      <td>70</td>\n",
       "      <td>POINT (754612 9305688)</td>\n",
       "    </tr>\n",
       "    <tr>\n",
       "      <th>3</th>\n",
       "      <td>754673</td>\n",
       "      <td>9305688</td>\n",
       "      <td>68</td>\n",
       "      <td>POINT (754673 9305688)</td>\n",
       "    </tr>\n",
       "    <tr>\n",
       "      <th>4</th>\n",
       "      <td>754734</td>\n",
       "      <td>9305688</td>\n",
       "      <td>98</td>\n",
       "      <td>POINT (754734 9305688)</td>\n",
       "    </tr>\n",
       "    <tr>\n",
       "      <th>5</th>\n",
       "      <td>754795</td>\n",
       "      <td>9305688</td>\n",
       "      <td>80</td>\n",
       "      <td>POINT (754795 9305688)</td>\n",
       "    </tr>\n",
       "  </tbody>\n",
       "</table>\n",
       "</div>"
      ],
      "text/plain": [
       "    X, metros  Y, metros  Zn, ppm                geometry\n",
       "ID                                                       \n",
       "1      754551    9305688       85  POINT (754551 9305688)\n",
       "2      754612    9305688       70  POINT (754612 9305688)\n",
       "3      754673    9305688       68  POINT (754673 9305688)\n",
       "4      754734    9305688       98  POINT (754734 9305688)\n",
       "5      754795    9305688       80  POINT (754795 9305688)"
      ]
     },
     "execution_count": 5,
     "metadata": {},
     "output_type": "execute_result"
    }
   ],
   "source": [
    "gdb.head()"
   ]
  },
  {
   "cell_type": "code",
   "execution_count": 9,
   "id": "7bf226f9-0f27-482e-976b-34de54758f4b",
   "metadata": {},
   "outputs": [
    {
     "name": "stdout",
     "output_type": "stream",
     "text": [
      "DADOS DE Mn:\n",
      "Mínimo: 19 ppm\n",
      "Máximo: 3750 ppm\n",
      "Mediana = 129 ppm\n",
      "Média = 235.02 ppm\n",
      "10% = 83 ppm\n",
      "25% = 97 ppm\n",
      "30% = 100 ppm\n",
      "50% = 129 ppm\n",
      "70% = 180 ppm\n",
      "75% = 210 ppm\n",
      "90% = 459 ppm\n",
      "Variância = 111812.13 ppm\n",
      "Desvio padrão = 334.38 ppm\n",
      "Assimetria = 5.89\n",
      "Coeficiente de Variação = 142.28%\n"
     ]
    }
   ],
   "source": [
    "print(f'''DADOS DE Mn:\n",
    "Mínimo: {gdb['Zn, ppm'].min()} ppm\n",
    "Máximo: {gdb['Zn, ppm'].max()} ppm\n",
    "Mediana = {int(gdb['Zn, ppm'].median())} ppm\n",
    "Média = {round((gdb['Zn, ppm'].mean()), 2)} ppm\n",
    "10% = {int(gdb['Zn, ppm'].quantile(.10))} ppm\n",
    "25% = {int(gdb['Zn, ppm'].quantile(.25))} ppm\n",
    "30% = {int(gdb['Zn, ppm'].quantile(.30))} ppm\n",
    "50% = {int(gdb['Zn, ppm'].quantile(.50))} ppm\n",
    "70% = {int(gdb['Zn, ppm'].quantile(.70))} ppm\n",
    "75% = {int(gdb['Zn, ppm'].quantile(.75))} ppm\n",
    "90% = {int(gdb['Zn, ppm'].quantile(.90))} ppm\n",
    "Variância = {round((gdb['Zn, ppm'].var()), 2)} ppm\n",
    "Desvio padrão = {round((gdb['Zn, ppm'].std()), 2)} ppm\n",
    "Assimetria = {round((gdb['Zn, ppm'].skew()), 2)}\n",
    "Coeficiente de Variação = {round(((gdb['Zn, ppm'].std() / gdb['Zn, ppm'].mean()) * 100), 2)}%''')"
   ]
  },
  {
   "cell_type": "code",
   "execution_count": 10,
   "id": "17fbc32b-0c9b-49e1-ac9a-a61e9d470f99",
   "metadata": {},
   "outputs": [
    {
     "data": {
      "image/png": "[encoded data removed]",
      "text/plain": [
       "<Figure size 1000x500 with 1 Axes>"
      ]
     },
     "metadata": {},
     "output_type": "display_data"
    }
   ],
   "source": [
    "fig, ax = plt.subplots(figsize=(10,5))\n",
    "ax.hist(db['Zn, ppm'], bins=20, histtype='bar', rwidth=0.95)\n",
    "ax.set_xlabel('Zn (ppm)')\n",
    "ax.set_ylabel('Frequência')\n",
    "ax.set_title('Histograma')\n",
    "plt.show()"
   ]
  },
  {
   "cell_type": "code",
   "execution_count": 11,
   "id": "ec625f03-feab-41b8-98d8-6de2a245a562",
   "metadata": {},
   "outputs": [
    {
     "data": {
      "image/png": "[encoded data removed]",
      "text/plain": [
       "<Figure size 1000x500 with 1 Axes>"
      ]
     },
     "metadata": {},
     "output_type": "display_data"
    }
   ],
   "source": [
    "fig, ax1 = plt.subplots(figsize=(10,5))\n",
    "ax1.boxplot(db['Zn, ppm'], vert=False)\n",
    "plt.show()"
   ]
  },
  {
   "cell_type": "code",
   "execution_count": 29,
   "id": "c79a4afc-a6ce-4bd4-a056-761ee683378b",
   "metadata": {},
   "outputs": [
    {
     "name": "stdout",
     "output_type": "stream",
     "text": [
      "\n",
      "Valores <= a 83 ppm: 32\n",
      "Valores entre 83 e 100 ppm: 51\n",
      "Valores entre 100 e 129 ppm: 53\n",
      "Valores entre 129 e 180 ppm: 55\n",
      "Valores entre 180 e 459 ppm: 53\n",
      "Valores maiores do que 459 ppm: 28\n",
      "Totalizando 272 dados\n",
      "\n"
     ]
    }
   ],
   "source": [
    "p0_10 = 0\n",
    "p10_30 = 0\n",
    "p30_50 = 0\n",
    "p50_70 = 0\n",
    "p70_90 = 0\n",
    "p90_100 = 0\n",
    "\n",
    "for i in db['Zn, ppm']:\n",
    "    if i <= 83:\n",
    "        p0_10 += 1\n",
    "    elif i > 83 and i <= 100:\n",
    "        p10_30 += 1\n",
    "    elif i > 100 and i <= 129:\n",
    "        p30_50 += 1\n",
    "    elif i > 129 and i <= 180:\n",
    "        p50_70 += 1\n",
    "    elif i > 180 and i <= 459:\n",
    "        p70_90 += 1\n",
    "    elif i > 459:\n",
    "        p90_100 += 1\n",
    "print(f'''\n",
    "Valores <= a 83 ppm: {p0_10}\n",
    "Valores entre 83 e 100 ppm: {p10_30}\n",
    "Valores entre 100 e 129 ppm: {p30_50}\n",
    "Valores entre 129 e 180 ppm: {p50_70}\n",
    "Valores entre 180 e 459 ppm: {p70_90}\n",
    "Valores maiores do que 459 ppm: {p90_100}\n",
    "Totalizando {p0_10 + p10_30 + p30_50 + p50_70 + p70_90 + p90_100} dados\n",
    "''')"
   ]
  },
  {
   "cell_type": "code",
   "execution_count": null,
   "id": "fa93489b-11fe-4034-81dd-d3896c6fb6c5",
   "metadata": {},
   "outputs": [],
   "source": []
  }
 ],
 "metadata": {
  "kernelspec": {
   "display_name": "Python 3 (ipykernel)",
   "language": "python",
   "name": "python3"
  },
  "language_info": {
   "codemirror_mode": {
    "name": "ipython",
    "version": 3
   },
   "file_extension": ".py",
   "mimetype": "text/x-python",
   "name": "python",
   "nbconvert_exporter": "python",
   "pygments_lexer": "ipython3",
   "version": "3.11.3"
  }
 },
 "nbformat": 4,
 "nbformat_minor": 5
}
